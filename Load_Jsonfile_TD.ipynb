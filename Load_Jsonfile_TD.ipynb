#converting JSON file to dataframe
from urllib.request import urlopen
import json
import urllib.request
import pandas as pd
import csv
url = "http://ogrip1-geohio.opendata.arcgis.com/datasets/ab0f0408fcb5479e97df5a13d9a3c648_0.geojson"
json_url = urlopen(url)
data = json.loads(json_url.read())
df_data_tmp = pd.DataFrame.from_dict(data['features'])
df_data = pd.DataFrame(df_data_tmp['properties'].to_dict()).T
#df_data

# Loading dataframe to Teradata PROD
import teradataml as tdml
from teradataml import create_context, remove_context
from teradataml.dataframe.copy_to import copy_to_sql
from teradatasqlalchemy.types import *

host='tdprod1'

create_context(host=host, username=input('Username:'), password=getpass('Password:'), logmech='LDAP')
copy_to_sql(df = df_data, table_name = 'CUYAHOGA_LBRS_ADDRESS_POINTS',schema_name = 'COVID_REPORTING_STG_T', index=True, if_exists='replace')
#fastload(df = df_data, table_name = 'CUYAHOGA_LBRS_ADDRESS_POINTS',schema_name = 'COVID_REPORTING_STG_T', index=True, if_exists='replace')
